{
 "cells": [
  {
   "cell_type": "code",
   "execution_count": 11,
   "metadata": {},
   "outputs": [],
   "source": [
    "import numpy as np\n",
    "import pandas as pd\n",
    "np.random.seed(42)\n",
    "from scipy.stats import beta"
   ]
  },
  {
   "cell_type": "code",
   "execution_count": 2,
   "metadata": {},
   "outputs": [],
   "source": [
    "# 1000 trials in both A and B groups\n",
    "group_size = 1000\n",
    "control_group, treatment_group = np.random.rand(2, group_size)"
   ]
  },
  {
   "cell_type": "code",
   "execution_count": 7,
   "metadata": {},
   "outputs": [],
   "source": [
    "# in the control group, we define success as the value < 0.15\n",
    "control_success = sum(control_group < 0.15)\n",
    "control_failure = group_size - control_success\n",
    "# in the treatment group, we define success as the value < 0.2\n",
    "treatment_success = sum(treatment_group < 0.2)\n",
    "treatment_failure = group_size - treatment_success"
   ]
  },
  {
   "cell_type": "code",
   "execution_count": 30,
   "metadata": {},
   "outputs": [
    {
     "data": {
      "text/plain": [
       "0.16"
      ]
     },
     "execution_count": 30,
     "metadata": {},
     "output_type": "execute_result"
    }
   ],
   "source": [
    "# prior - beta distribution\n",
    "beta_prior = beta(8, 42)\n",
    "beta_prior.mean()"
   ]
  },
  {
   "cell_type": "code",
   "execution_count": 24,
   "metadata": {},
   "outputs": [
    {
     "name": "stdout",
     "output_type": "stream",
     "text": [
      "control group posterior mean:  0.1657142857142857\n",
      "treatment group posterior mean:  0.20095238095238097\n"
     ]
    }
   ],
   "source": [
    "# When the metric is proportion, we assume that it will follow beta distribution: beta(8, 42)\n",
    "# update prior: posterior = prior + observed data\n",
    "control_posterior = beta(control_success + 8, control_failure + 42)\n",
    "treatment_posterior = beta(treatment_success + 8, treatment_failure + 42)\n",
    "# posterior mean\n",
    "print('control group posterior mean: ', control_posterior.mean())\n",
    "print('treatment group posterior mean: ', treatment_posterior.mean())"
   ]
  },
  {
   "cell_type": "code",
   "execution_count": 15,
   "metadata": {},
   "outputs": [],
   "source": [
    "# Monte Carlo Simulation\n",
    "## draw 100k samples from control and treament posterior dist.\n",
    "n_trials = 100000\n",
    "control_sample = pd.Series([control_posterior.rvs() for i in range(n_trials)])\n",
    "treatment_sample = pd.Series([treatment_posterior.rvs() for i in range(n_trials)])"
   ]
  },
  {
   "cell_type": "code",
   "execution_count": 28,
   "metadata": {},
   "outputs": [
    {
     "name": "stdout",
     "output_type": "stream",
     "text": [
      "probability that treatment is better than control:  98.0 %\n"
     ]
    }
   ],
   "source": [
    "## how many times did treatment outperform control?\n",
    "treatment_wins = sum(treatment_sample > control_sample)\n",
    "## percentage of treatment wins - probability to be the best\n",
    "perc_treatment_wins = round((treatment_wins / n_trials) * 100, 0)\n",
    "print('probability that treatment is better than control: ', perc_treatment_wins, '%')"
   ]
  },
  {
   "cell_type": "code",
   "execution_count": 23,
   "metadata": {},
   "outputs": [
    {
     "name": "stdout",
     "output_type": "stream",
     "text": [
      "the 90% credible interval of the control group is: [0.1470891750067972, 0.18494424162056522]\n",
      "the 90% credible interval of the treatment group is: [0.1808940075468876, 0.22161401176831239]\n"
     ]
    }
   ],
   "source": [
    "# get 5% - 95% of the treatment sample\n",
    "print(r\"the 90% credible interval of the control group is:\", [control_sample.quantile(0.05), control_sample.quantile(0.95)])\n",
    "print(r\"the 90% credible interval of the treatment group is:\", [treatment_sample.quantile(0.05), treatment_sample.quantile(0.95)])"
   ]
  }
 ],
 "metadata": {
  "kernelspec": {
   "display_name": "jtot",
   "language": "python",
   "name": "python3"
  },
  "language_info": {
   "codemirror_mode": {
    "name": "ipython",
    "version": 3
   },
   "file_extension": ".py",
   "mimetype": "text/x-python",
   "name": "python",
   "nbconvert_exporter": "python",
   "pygments_lexer": "ipython3",
   "version": "3.9.13"
  },
  "orig_nbformat": 4
 },
 "nbformat": 4,
 "nbformat_minor": 2
}
